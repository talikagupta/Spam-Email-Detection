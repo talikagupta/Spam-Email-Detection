{
  "nbformat": 4,
  "nbformat_minor": 0,
  "metadata": {
    "colab": {
      "name": "Spam Email Detection.ipynb",
      "provenance": [],
      "authorship_tag": "ABX9TyOdfLcBa/cPLHTSA3k+VBBt",
      "include_colab_link": true
    },
    "kernelspec": {
      "name": "python3",
      "display_name": "Python 3"
    },
    "language_info": {
      "name": "python"
    }
  },
  "cells": [
    {
      "cell_type": "markdown",
      "metadata": {
        "id": "view-in-github",
        "colab_type": "text"
      },
      "source": [
        "<a href=\"https://colab.research.google.com/github/talikagupta/Spam-Email-Detection/blob/main/Spam_Email_Detection.ipynb\" target=\"_parent\"><img src=\"https://colab.research.google.com/assets/colab-badge.svg\" alt=\"Open In Colab\"/></a>"
      ]
    },
    {
      "cell_type": "code",
      "metadata": {
        "id": "aR2-xiGn05RE"
      },
      "source": [
        "import numpy as np\n",
        "import pandas as pd\n",
        "from sklearn.model_selection import train_test_split\n",
        "from sklearn.feature_extraction.text import TfidfVectorizer\n",
        "from sklearn.linear_model import LogisticRegression\n",
        "from sklearn.metrics import accuracy_score"
      ],
      "execution_count": null,
      "outputs": []
    },
    {
      "cell_type": "code",
      "metadata": {
        "id": "PVjJZ_lh3bsu"
      },
      "source": [
        "raw_mail_data = pd.read_csv('/content/emails.csv')"
      ],
      "execution_count": null,
      "outputs": []
    },
    {
      "cell_type": "code",
      "metadata": {
        "id": "JjNqrm8X4MkR"
      },
      "source": [
        "print(raw_mail_data)"
      ],
      "execution_count": null,
      "outputs": []
    },
    {
      "cell_type": "code",
      "metadata": {
        "id": "J8u2JwcY4NdD"
      },
      "source": [
        "mail = raw_mail_data.where(pd.notnull(raw_mail_data), '')"
      ],
      "execution_count": null,
      "outputs": []
    },
    {
      "cell_type": "code",
      "metadata": {
        "colab": {
          "base_uri": "https://localhost:8080/",
          "height": 206
        },
        "id": "p3NqQp_Q92P0",
        "outputId": "bfd29b3d-1209-43aa-a67d-f4240be29f87"
      },
      "source": [
        "mail.head()"
      ],
      "execution_count": null,
      "outputs": [
        {
          "output_type": "execute_result",
          "data": {
            "text/html": [
              "<div>\n",
              "<style scoped>\n",
              "    .dataframe tbody tr th:only-of-type {\n",
              "        vertical-align: middle;\n",
              "    }\n",
              "\n",
              "    .dataframe tbody tr th {\n",
              "        vertical-align: top;\n",
              "    }\n",
              "\n",
              "    .dataframe thead th {\n",
              "        text-align: right;\n",
              "    }\n",
              "</style>\n",
              "<table border=\"1\" class=\"dataframe\">\n",
              "  <thead>\n",
              "    <tr style=\"text-align: right;\">\n",
              "      <th></th>\n",
              "      <th>Category</th>\n",
              "      <th>Message</th>\n",
              "    </tr>\n",
              "  </thead>\n",
              "  <tbody>\n",
              "    <tr>\n",
              "      <th>0</th>\n",
              "      <td>ham</td>\n",
              "      <td>Go until jurong point, crazy.. Available only ...</td>\n",
              "    </tr>\n",
              "    <tr>\n",
              "      <th>1</th>\n",
              "      <td>ham</td>\n",
              "      <td>Ok lar... Joking wif u oni...</td>\n",
              "    </tr>\n",
              "    <tr>\n",
              "      <th>2</th>\n",
              "      <td>spam</td>\n",
              "      <td>Free entry in 2 a wkly comp to win FA Cup fina...</td>\n",
              "    </tr>\n",
              "    <tr>\n",
              "      <th>3</th>\n",
              "      <td>ham</td>\n",
              "      <td>U dun say so early hor... U c already then say...</td>\n",
              "    </tr>\n",
              "    <tr>\n",
              "      <th>4</th>\n",
              "      <td>ham</td>\n",
              "      <td>Nah I don't think he goes to usf, he lives aro...</td>\n",
              "    </tr>\n",
              "  </tbody>\n",
              "</table>\n",
              "</div>"
            ],
            "text/plain": [
              "  Category                                            Message\n",
              "0      ham  Go until jurong point, crazy.. Available only ...\n",
              "1      ham                      Ok lar... Joking wif u oni...\n",
              "2     spam  Free entry in 2 a wkly comp to win FA Cup fina...\n",
              "3      ham  U dun say so early hor... U c already then say...\n",
              "4      ham  Nah I don't think he goes to usf, he lives aro..."
            ]
          },
          "metadata": {},
          "execution_count": 40
        }
      ]
    },
    {
      "cell_type": "code",
      "metadata": {
        "colab": {
          "base_uri": "https://localhost:8080/"
        },
        "id": "W1HMv5bf98UT",
        "outputId": "90271c1e-66fd-4f4a-d1a1-24bc8402ff99"
      },
      "source": [
        "mail.shape"
      ],
      "execution_count": null,
      "outputs": [
        {
          "output_type": "execute_result",
          "data": {
            "text/plain": [
              "(5572, 2)"
            ]
          },
          "metadata": {},
          "execution_count": 41
        }
      ]
    },
    {
      "cell_type": "markdown",
      "metadata": {
        "id": "6wJQZJF--BLh"
      },
      "source": [
        "Label Encoding"
      ]
    },
    {
      "cell_type": "code",
      "metadata": {
        "id": "pk_wM1dL9_xR"
      },
      "source": [
        "#spam mail - 1, ham mail - 0\n",
        "mail.loc[mail['Category']=='spam', 'Category'] = 1\n",
        "mail.loc[mail['Category']=='ham', 'Category'] = '0'"
      ],
      "execution_count": null,
      "outputs": []
    },
    {
      "cell_type": "code",
      "metadata": {
        "id": "10NUIlkq-SmP"
      },
      "source": [
        "print(mail)"
      ],
      "execution_count": null,
      "outputs": []
    },
    {
      "cell_type": "code",
      "metadata": {
        "id": "zqiAOxGX-i3y"
      },
      "source": [
        "#separating the data in X and Y\n",
        "X = mail['Message'] #feature\n",
        "Y = mail['Category']"
      ],
      "execution_count": null,
      "outputs": []
    },
    {
      "cell_type": "markdown",
      "metadata": {
        "id": "3YCkOHaW_CaV"
      },
      "source": [
        "##Splitting the data into training and test data sets"
      ]
    },
    {
      "cell_type": "code",
      "metadata": {
        "id": "bHTdXR-IKJc4"
      },
      "source": [
        "#converting Y,Y_train and Y_test to integers\n",
        "Y = Y.astype('int')\n",
        "Y_train = Y_train.astype('int')\n",
        "Y_test = Y_test.astype('int')"
      ],
      "execution_count": null,
      "outputs": []
    },
    {
      "cell_type": "code",
      "metadata": {
        "id": "V0Rlu4Vn--Uz"
      },
      "source": [
        "X_train, X_test, Y_train, Y_test = train_test_split(X, Y, test_size=0.2, stratify=Y, random_state=42)"
      ],
      "execution_count": null,
      "outputs": []
    },
    {
      "cell_type": "markdown",
      "metadata": {
        "id": "l5SRB4qo_bGm"
      },
      "source": [
        "##Feature Extraction"
      ]
    },
    {
      "cell_type": "code",
      "metadata": {
        "id": "8pesU98L_YYh"
      },
      "source": [
        "#convert the textual data to feature vectors  \n",
        "#that can be given as an input to the Logistic Regression Model\n",
        "\n",
        "vectorizer = TfidfVectorizer(min_df=1, stop_words='english', lowercase=True)\n",
        "\n",
        "X_train_features = vectorizer.fit_transform(X_train)\n",
        "#we do not fit the testing data to the vectorizer. we only transform\n",
        "X_test_features = vectorizer.transform(X_test)\n",
        "\n"
      ],
      "execution_count": null,
      "outputs": []
    },
    {
      "cell_type": "code",
      "metadata": {
        "id": "xsblvR7HIrea"
      },
      "source": [
        "print(X_train)"
      ],
      "execution_count": null,
      "outputs": []
    },
    {
      "cell_type": "code",
      "metadata": {
        "id": "vAjc3rMOH3hp"
      },
      "source": [
        "#print(X_train_features)"
      ],
      "execution_count": null,
      "outputs": []
    },
    {
      "cell_type": "markdown",
      "metadata": {
        "id": "9uAdCcVwICLo"
      },
      "source": [
        "##Training the Model"
      ]
    },
    {
      "cell_type": "markdown",
      "metadata": {
        "id": "GuF2S8ArIErc"
      },
      "source": [
        "Logistic Regression\n"
      ]
    },
    {
      "cell_type": "code",
      "metadata": {
        "id": "ZPclE6cHH50a"
      },
      "source": [
        "model = LogisticRegression()"
      ],
      "execution_count": null,
      "outputs": []
    },
    {
      "cell_type": "code",
      "metadata": {
        "colab": {
          "base_uri": "https://localhost:8080/"
        },
        "id": "Mo9SKX4rIIQo",
        "outputId": "898fced0-d2a1-4840-83c9-2f974eb26956"
      },
      "source": [
        "#training the model\n",
        "model.fit(X_train_features, Y_train)"
      ],
      "execution_count": null,
      "outputs": [
        {
          "output_type": "execute_result",
          "data": {
            "text/plain": [
              "LogisticRegression()"
            ]
          },
          "metadata": {},
          "execution_count": 54
        }
      ]
    },
    {
      "cell_type": "markdown",
      "metadata": {
        "id": "uKTaWi-sIg9v"
      },
      "source": [
        "Evaluating the trained model"
      ]
    },
    {
      "cell_type": "code",
      "metadata": {
        "colab": {
          "base_uri": "https://localhost:8080/"
        },
        "id": "mFumlRaDIcTw",
        "outputId": "845354f9-9442-4af5-8fad-7eba7d4e094d"
      },
      "source": [
        "#training data accuracy score\n",
        "\n",
        "prediction_train = model.predict(X_train_features)\n",
        "accuracy_train = accuracy_score(Y_train, prediction_train)\n",
        "print('Accuracy on training set : ' ,accuracy_train)"
      ],
      "execution_count": null,
      "outputs": [
        {
          "output_type": "stream",
          "name": "stdout",
          "text": [
            "Accuracy on training set :  0.9692618353152345\n"
          ]
        }
      ]
    },
    {
      "cell_type": "code",
      "metadata": {
        "colab": {
          "base_uri": "https://localhost:8080/"
        },
        "id": "bnI2Y1WOSGIt",
        "outputId": "9aa45fb3-751d-4071-db74-048e81a1efcc"
      },
      "source": [
        "#test data accuracy score\n",
        "\n",
        "prediction_test = model.predict(X_test_features)\n",
        "accuracy_test = accuracy_score(Y_test, prediction_test)\n",
        "print('Accuracy on test set : ' ,accuracy_test)"
      ],
      "execution_count": null,
      "outputs": [
        {
          "output_type": "stream",
          "name": "stdout",
          "text": [
            "Accuracy on test set :  0.9668161434977578\n"
          ]
        }
      ]
    },
    {
      "cell_type": "markdown",
      "metadata": {
        "id": "FfiNpGWWSXX3"
      },
      "source": [
        "##Building a Predictive System"
      ]
    },
    {
      "cell_type": "code",
      "metadata": {
        "colab": {
          "base_uri": "https://localhost:8080/"
        },
        "id": "B1uJx1abSVLe",
        "outputId": "efd32191-04da-4ae5-d14d-3f4144081328"
      },
      "source": [
        "input = ['I call you later, dont have network. If urgnt, sms me.']\n",
        "\n",
        "#convert text to feature vector\n",
        "input_data = vectorizer.transform(input)\n",
        "\n",
        "prediction = model.predict(input_data)\n",
        "print(prediction)\n",
        "\n",
        "if(prediction[0] == 1):\n",
        "  print('Spam')\n",
        "else:\n",
        "  print('Not spam')"
      ],
      "execution_count": null,
      "outputs": [
        {
          "output_type": "stream",
          "name": "stdout",
          "text": [
            "[0]\n",
            "Not spam\n"
          ]
        }
      ]
    }
  ]
}